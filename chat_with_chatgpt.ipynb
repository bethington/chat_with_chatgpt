{
 "cells": [
  {
   "cell_type": "code",
   "execution_count": 1,
   "id": "11b116eb-6402-464d-947a-c2e31ef9c05b",
   "metadata": {},
   "outputs": [],
   "source": [
    "import os\n",
    "import pandas as pd\n",
    "import pickle\n",
    "from selenium import webdriver\n",
    "from selenium.webdriver.common.by import By\n",
    "from selenium.webdriver.common.keys import Keys\n",
    "from selenium.webdriver.support.ui import WebDriverWait\n",
    "from selenium.webdriver.support import expected_conditions as EC\n",
    "from time import sleep\n",
    "import undetected_chromedriver as uc\n",
    "from fake_useragent import UserAgent\n",
    "import logging\n",
    "from dotenv import load_dotenv  # Import for loading .env file"
   ]
  },
  {
   "cell_type": "code",
   "execution_count": 2,
   "id": "2e87982f-d31e-479d-bbc6-173bc84f2c54",
   "metadata": {},
   "outputs": [
    {
     "data": {
      "text/plain": [
       "True"
      ]
     },
     "execution_count": 2,
     "metadata": {},
     "output_type": "execute_result"
    }
   ],
   "source": [
    "# Load environment variables from .env file\n",
    "load_dotenv()"
   ]
  },
  {
   "cell_type": "code",
   "execution_count": 3,
   "id": "cfd46d8d-4937-4e1b-967e-a982fc437f0b",
   "metadata": {},
   "outputs": [],
   "source": [
    "# Setup logging for better traceability\n",
    "logging.basicConfig(level=logging.INFO, format='%(asctime)s - %(levelname)s - %(message)s')"
   ]
  },
  {
   "cell_type": "code",
   "execution_count": 4,
   "id": "dbd2c1b7-c43b-490a-93d1-200ff03dd62d",
   "metadata": {},
   "outputs": [],
   "source": [
    "# Constants (move sensitive data like this to environment variables for security in real apps)\n",
    "MAIL = os.getenv('MAIL')\n",
    "PASSWORD = os.getenv('PASSWORD')\n",
    "CHROME_BINARY_LOCATION = \"C:\\\\Users\\\\benam\\\\source\\\\chromedriver-win64\\\\chromedriver.exe\"\n",
    "CHROMEDRIVER_PATH = \"C:\\\\Users\\\\benam\\\\source\\\\chromedriver-win64\\\\chromedriver.exe\"\n",
    "CHATGPT_URL = 'https://chatgpt.com/'\n",
    "COOKIES_PATH = \"cookies.pkl\"\n",
    "# PROMPT = \"Give a summary of the life and work of Albert Einstein.\"\n",
    "# PROMPT =  \"Refactor the given Python code to improve its error handling and resilience.\"\n",
    "PROMPT =  \"Using the following Python code add functionality after logging in to wait for HTTP POST call to be used for input for the PROMPT, the return response for this POST call is the articleOutput[1].text:\""
   ]
  },
  {
   "cell_type": "code",
   "execution_count": 5,
   "id": "2f36e8c7-6108-4d78-9f8f-812a5a57e58b",
   "metadata": {},
   "outputs": [],
   "source": [
    "def save_cookies(driver, path):\n",
    "    \"\"\"Save cookies to a file.\"\"\"\n",
    "    with open(path, 'wb') as filehandler:\n",
    "        pickle.dump(driver.get_cookies(), filehandler)\n",
    "    logging.info(f\"Cookies saved to {path}\")"
   ]
  },
  {
   "cell_type": "code",
   "execution_count": 6,
   "id": "1f773f9f-4d0a-43ea-8958-d7c2e73b8af0",
   "metadata": {},
   "outputs": [],
   "source": [
    "def load_cookies(driver, path):\n",
    "    \"\"\"Load cookies from a file.\"\"\"\n",
    "    with open(path, 'rb') as cookiesfile:\n",
    "        cookies = pickle.load(cookiesfile)\n",
    "        for cookie in cookies:\n",
    "            # Selenium expects expiry to be an int\n",
    "            if isinstance(cookie.get('expiry', None), float):\n",
    "                cookie['expiry'] = int(cookie['expiry'])\n",
    "            driver.add_cookie(cookie)\n",
    "    logging.info(f\"Cookies loaded from {path}\")"
   ]
  },
  {
   "cell_type": "code",
   "execution_count": 7,
   "id": "c42ad213-f86f-4573-b972-9a1399d32391",
   "metadata": {},
   "outputs": [],
   "source": [
    "# Set up Chrome options\n",
    "chrome_options = webdriver.ChromeOptions()\n",
    "# chrome_options.add_argument(f\"user-agent={UserAgent.random}\")\n",
    "chrome_options.add_argument(r\"user-data-dir=C:\\\\Users\\\\benam\\\\AppData\\\\Local\\\\Google\\\\Chrome\\\\User Data\")\n",
    "# chrome_options.add_experimental_option(\"detach\", True)\n",
    "# chrome_options.add_experimental_option(\"excludeSwitches\", [\"enable-logging\"])\n",
    "chrome_options.binary_location = CHROME_BINARY_LOCATION"
   ]
  },
  {
   "cell_type": "code",
   "execution_count": 8,
   "id": "18ffed55-5c8e-4300-9f4c-8e1fd474de33",
   "metadata": {},
   "outputs": [
    {
     "name": "stderr",
     "output_type": "stream",
     "text": [
      "2024-09-16 00:22:40,055 - INFO - Starting Chrome browser\n",
      "2024-09-16 00:22:41,028 - INFO - patching driver executable C:\\Users\\benam\\appdata\\roaming\\undetected_chromedriver\\undetected_chromedriver.exe\n"
     ]
    }
   ],
   "source": [
    "# Start the Chrome driver\n",
    "logging.info(\"Starting Chrome browser\")\n",
    "driver = uc.Chrome(chrome_options=chrome_options)\n",
    "sleep(3)"
   ]
  },
  {
   "cell_type": "code",
   "execution_count": 9,
   "id": "c01698e0-ca62-4891-8893-03185d5aa14e",
   "metadata": {},
   "outputs": [],
   "source": [
    "# Open the ChatGPT website\n",
    "driver.get(CHATGPT_URL)\n",
    "sleep(3)"
   ]
  },
  {
   "cell_type": "code",
   "execution_count": 10,
   "id": "dac0de3f-adba-4eb3-908d-87ad8d70dfe3",
   "metadata": {},
   "outputs": [
    {
     "name": "stderr",
     "output_type": "stream",
     "text": [
      "2024-09-16 00:23:55,054 - INFO - Loading cookies from file\n",
      "2024-09-16 00:23:55,094 - ERROR - Error loading cookies: Message: unable to set cookie\n",
      "  (Session info: chrome=128.0.6613.138)\n",
      "Stacktrace:\n",
      "\tGetHandleVerifier [0x0044D933+25811]\n",
      "\t(No symbol) [0x003DE314]\n",
      "\t(No symbol) [0x002D2399]\n",
      "\t(No symbol) [0x002DCE1B]\n",
      "\t(No symbol) [0x003650C6]\n",
      "\t(No symbol) [0x0033AD2C]\n",
      "\t(No symbol) [0x003546F0]\n",
      "\t(No symbol) [0x0033AAC6]\n",
      "\t(No symbol) [0x0030BEFD]\n",
      "\t(No symbol) [0x0030C8FD]\n",
      "\tGetHandleVerifier [0x0071F143+2981091]\n",
      "\tGetHandleVerifier [0x00772FF9+3324825]\n",
      "\tGetHandleVerifier [0x004DB32F+605903]\n",
      "\tGetHandleVerifier [0x004E2CBC+637020]\n",
      "\t(No symbol) [0x003E6F4D]\n",
      "\t(No symbol) [0x003E3DD8]\n",
      "\t(No symbol) [0x003E3F75]\n",
      "\t(No symbol) [0x003D6406]\n",
      "\tBaseThreadInitThunk [0x75A4FCC9+25]\n",
      "\tRtlGetAppContainerNamedObjectPath [0x76F980CE+286]\n",
      "\tRtlGetAppContainerNamedObjectPath [0x76F9809E+238]\n",
      "\n"
     ]
    }
   ],
   "source": [
    "# Attempt to load cookies if they exist\n",
    "if os.path.exists(COOKIES_PATH):\n",
    "    logging.info(\"Loading cookies from file\")\n",
    "    try:\n",
    "        load_cookies(driver, COOKIES_PATH)\n",
    "        driver.refresh()  # Refresh to apply cookies\n",
    "        sleep(5)  # Wait for the page to load after refresh\n",
    "    except Exception as e:\n",
    "        logging.error(f\"Error loading cookies: {e}\")"
   ]
  },
  {
   "cell_type": "code",
   "execution_count": 11,
   "id": "98119dad-39ae-41d6-bed7-50d03cc5a052",
   "metadata": {},
   "outputs": [],
   "source": [
    "# Click login button\n",
    "loginBtn = driver.find_element(By.XPATH, \"//button[@data-testid='login-button']\")\n",
    "loginBtn.click()\n",
    "sleep(3)"
   ]
  },
  {
   "cell_type": "code",
   "execution_count": 12,
   "id": "a71cbe2c-f00f-48e5-8033-b52fe952a721",
   "metadata": {},
   "outputs": [],
   "source": [
    "# Enter email\n",
    "emailInput = driver.find_element(By.XPATH,\"//input[@id='email-input']\")\n",
    "emailInput.send_keys(MAIL)\n",
    "sleep(3)"
   ]
  },
  {
   "cell_type": "code",
   "execution_count": 13,
   "id": "7f9a6fef-cb21-49b0-b7cf-4fcccdd85ac1",
   "metadata": {},
   "outputs": [],
   "source": [
    "# Click continue\n",
    "continueBtn = driver.find_element(By.XPATH, \"//button[@class='continue-btn']\")\n",
    "continueBtn.click()\n",
    "sleep(3)"
   ]
  },
  {
   "cell_type": "code",
   "execution_count": 14,
   "id": "2884c9bd-e3a5-4b75-b717-5c0c85f3bac2",
   "metadata": {},
   "outputs": [],
   "source": [
    "# Enter password\n",
    "password = driver.find_element(By.XPATH, \"//input[@id='password']\")\n",
    "password.send_keys(PASSWORD)\n",
    "sleep(3)"
   ]
  },
  {
   "cell_type": "code",
   "execution_count": 15,
   "id": "aa5f5741-062b-41a1-acbf-018ea5666a96",
   "metadata": {},
   "outputs": [],
   "source": [
    "# Submit the login form\n",
    "submitBtn = driver.find_element(By.XPATH, \"//button[@type='submit']\")\n",
    "submitBtn.click()\n",
    "sleep(10)"
   ]
  },
  {
   "cell_type": "code",
   "execution_count": 16,
   "id": "231896b2-0cbf-458c-b70a-9956bc4dec06",
   "metadata": {},
   "outputs": [
    {
     "name": "stderr",
     "output_type": "stream",
     "text": [
      "2024-09-16 00:25:05,152 - INFO - Login successful\n",
      "2024-09-16 00:25:05,160 - INFO - Cookies saved to cookies.pkl\n"
     ]
    }
   ],
   "source": [
    "# Wait until the prompt input is present, indicating successful login\n",
    "try:\n",
    "   wait = WebDriverWait(driver, 120)\n",
    "   promptInput = wait.until(EC.presence_of_element_located((By.XPATH, \"//div[@id='prompt-textarea']\")))\n",
    "   if promptInput:\n",
    "      logging.info(\"Login successful\")\n",
    "      save_cookies(driver, COOKIES_PATH)  # Save cookies after successful login\n",
    "except Exception as e:\n",
    "   logging.error(f\"Error during post-login wait: {e}\")\n",
    "   driver.quit()"
   ]
  },
  {
   "cell_type": "code",
   "execution_count": 17,
   "id": "3938d434-2b06-4944-a35a-ab187fe59c57",
   "metadata": {},
   "outputs": [],
   "source": [
    "# Enter the prompt\n",
    "promptInput = driver.find_element(By.XPATH, \"//div[@id='prompt-textarea']\")\n",
    "promptInput.send_keys(PROMPT)\n",
    "sleep(3)"
   ]
  },
  {
   "cell_type": "code",
   "execution_count": null,
   "id": "145bf4c2-506b-468c-8529-32e2fba135a2",
   "metadata": {},
   "outputs": [],
   "source": [
    "# Send the prompt\n",
    "promptBtn = driver.find_element(By.XPATH, \"//button[@data-testid='send-button']\")\n",
    "promptBtn.click()\n",
    "sleep(10)"
   ]
  },
  {
   "cell_type": "code",
   "execution_count": 23,
   "id": "ee0f38e0-fa73-450f-9dc5-76a596738b36",
   "metadata": {},
   "outputs": [
    {
     "name": "stdout",
     "output_type": "stream",
     "text": [
      "<p>Albert Einstein (1879–1955) was a German-born theoretical physicist widely regarded as one of the greatest scientific minds of the 20th century. His groundbreaking contributions to the fields of physics revolutionized our understanding of the universe. Here’s a brief overview of his life and work:</p><h3>Early Life and Education:</h3><ul><li><strong>Born</strong> in Ulm, Germany, on March 14, 1879, Einstein grew up in Munich.</li><li>He displayed an early fascination with science, particularly with a compass he was given as a child, which sparked his curiosity about the forces of nature.</li><li>Einstein attended the <strong>Swiss Federal Polytechnic</strong> in Zurich, where he graduated in 1900. Despite struggling to secure a teaching position, he took a job at the <strong>Swiss Patent Office</strong> in Bern in 1902.</li></ul><h3>Major Contributions:</h3><ol><li><p><strong>Annus Mirabilis (1905)</strong> – Einstein’s \"Miracle Year\":</p><ul><li>In 1905, while working at the patent office, Einstein published four pivotal papers that changed the course of physics:<ul><li><strong>Photoelectric Effect</strong>: Demonstrated that light behaves as both particles (photons) and waves, a key development in quantum theory. This work won him the <strong>Nobel Prize in Physics</strong> in 1921.</li><li><strong>Brownian Motion</strong>: Provided empirical evidence for the existence of atoms, using statistical physics to explain the erratic movement of particles in a fluid.</li><li><strong>Special Theory of Relativity</strong>: Proposed that space and time are relative to the observer and introduced the famous equation <strong>E=mc²</strong>, showing the relationship between energy and mass.</li><li><strong>Mass-Energy Equivalence</strong>: This concept established that mass can be converted into energy and vice versa, which was later crucial in understanding nuclear reactions.</li></ul></li></ul></li><li><p><strong>General Theory of Relativity (1915)</strong>:</p><ul><li>In 1915, Einstein developed the <strong>general theory of relativity</strong>, which extended his earlier theory by incorporating gravity. He proposed that gravity is not a force, as previously thought, but rather the warping of spacetime by massive objects.</li><li>This theory was confirmed during a solar eclipse in 1919 when scientists observed the bending of starlight around the Sun, proving one of Einstein’s predictions. It brought him international fame.</li></ul></li></ol><h3>Later Life and Legacy:</h3><ul><li>Einstein continued to make significant contributions to physics throughout his life, including advances in statistical mechanics and the study of quantum theory.</li><li>In 1933, due to the rise of the <strong>Nazi regime</strong> in Germany, Einstein emigrated to the United States, where he took a position at the <strong>Institute for Advanced Study</strong> in Princeton.</li><li>He became an outspoken advocate for <strong>civil rights</strong>, <strong>pacifism</strong>, and later, <strong>Zionism</strong>. However, he was deeply conflicted about the use of his work for military purposes. Though he urged the U.S. government to develop nuclear weapons during World War II to counter Nazi threats, he became a strong critic of nuclear arms after the bombings of Hiroshima and Nagasaki.</li></ul><h3>Final Years:</h3><ul><li>Einstein spent the last decades of his life pursuing a unified field theory, an attempt to reconcile general relativity and quantum mechanics, but he was not successful.</li><li>He passed away on April 18, 1955, in Princeton, New Jersey.</li></ul><h3>Legacy:</h3><p>Albert Einstein’s theories laid the foundation for much of modern physics. His name has become synonymous with genius, and his contributions to science, particularly in relativity and quantum mechanics, continue to influence technological and scientific advancements today.</p>\n"
     ]
    }
   ],
   "source": [
    "# Capture the output\n",
    "articleOutput = driver.find_elements(By.CLASS_NAME, \"markdown\")\n",
    "print(articleOutput[-1].get_attribute(\"innerHTML\"))\n",
    "sleep(5)"
   ]
  },
  {
   "cell_type": "code",
   "execution_count": null,
   "id": "5af0e9ac-11a9-49b5-8c02-90cce1537628",
   "metadata": {},
   "outputs": [],
   "source": []
  }
 ],
 "metadata": {
  "kernelspec": {
   "display_name": "Python 3 (ipykernel)",
   "language": "python",
   "name": "python3"
  },
  "language_info": {
   "codemirror_mode": {
    "name": "ipython",
    "version": 3
   },
   "file_extension": ".py",
   "mimetype": "text/x-python",
   "name": "python",
   "nbconvert_exporter": "python",
   "pygments_lexer": "ipython3",
   "version": "3.12.5"
  }
 },
 "nbformat": 4,
 "nbformat_minor": 5
}
