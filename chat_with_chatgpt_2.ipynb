{
 "cells": [
  {
   "cell_type": "code",
   "execution_count": 1,
   "id": "11b116eb-6402-464d-947a-c2e31ef9c05b",
   "metadata": {},
   "outputs": [],
   "source": [
    "import pandas as pd\n",
    "import pickle\n",
    "from selenium import webdriver\n",
    "from selenium.webdriver.common.by import By\n",
    "from selenium.webdriver.common.keys import Keys\n",
    "from selenium.webdriver.support.ui import WebDriverWait\n",
    "from selenium.webdriver.support import expected_conditions as EC\n",
    "from time import sleep\n",
    "import undetected_chromedriver as uc\n",
    "from fake_useragent import UserAgent\n",
    "import logging"
   ]
  },
  {
   "cell_type": "code",
   "execution_count": 2,
   "id": "cfd46d8d-4937-4e1b-967e-a982fc437f0b",
   "metadata": {},
   "outputs": [],
   "source": [
    "# Setup logging for better traceability\n",
    "logging.basicConfig(level=logging.INFO, format='%(asctime)s - %(levelname)s - %(message)s')"
   ]
  },
  {
   "cell_type": "code",
   "execution_count": 3,
   "id": "dbd2c1b7-c43b-490a-93d1-200ff03dd62d",
   "metadata": {},
   "outputs": [],
   "source": [
    "# Constants (move sensitive data like this to environment variables for security in real apps)\n",
    "MAIL = \"ben.ethington@me.com\"\n",
    "PASSWORD = \"rudheb-8wapvA-jivzop\"\n",
    "CHROME_BINARY_LOCATION = \"C:\\\\Users\\\\benam\\\\source\\\\chromedriver-win64\\\\chromedriver.exe\"\n",
    "CHROMEDRIVER_PATH = \"C:\\\\Users\\\\benam\\\\source\\\\chromedriver-win64\\\\chromedriver.exe\"\n",
    "CHATGPT_URL = 'https://chatgpt.com/'\n",
    "# PROMPT = \"Give a summary of the life and work of Albert Einstein.\"\n",
    "PROMPT =  \"Refactor the given Python code to improve its error handling and resilience.\""
   ]
  },
  {
   "cell_type": "code",
   "execution_count": 4,
   "id": "c42ad213-f86f-4573-b972-9a1399d32391",
   "metadata": {},
   "outputs": [],
   "source": [
    "def initialize_driver():\n",
    "    try:\n",
    "        # Set up Chrome options\n",
    "        chrome_options = webdriver.ChromeOptions()\n",
    "        chrome_options.add_argument(f\"user-agent={UserAgent().random}\")\n",
    "        chrome_options.add_argument(r\"user-data-dir=C:\\\\Users\\\\benam\\\\AppData\\\\Local\\\\Google\\\\Chrome\\\\User Data\")\n",
    "        chrome_options.add_experimental_option(\"detach\", True)\n",
    "        chrome_options.add_experimental_option(\"excludeSwitches\", [\"enable-logging\"])\n",
    "        chrome_options.binary_location = CHROME_BINARY_LOCATION\n",
    "        \n",
    "        # Start the Chrome driver\n",
    "        logging.info(\"Starting Chrome browser\")\n",
    "        driver = uc.Chrome(options=chrome_options)\n",
    "        return driver\n",
    "    except Exception as e:\n",
    "        logging.error(f\"Error initializing driver: {e}\")\n",
    "        return None"
   ]
  },
  {
   "cell_type": "code",
   "execution_count": 5,
   "id": "18ffed55-5c8e-4300-9f4c-8e1fd474de33",
   "metadata": {},
   "outputs": [],
   "source": [
    "def login(driver):\n",
    "    try:\n",
    "        # Open the ChatGPT website\n",
    "        driver.get(CHATGPT_URL)\n",
    "        sleep(3)\n",
    "\n",
    "        # Click login button\n",
    "        login_btn = driver.find_element(By.XPATH, \"//button[@data-testid='login-button']\")\n",
    "        login_btn.click()\n",
    "        sleep(3)\n",
    "\n",
    "        # Enter email\n",
    "        email_input = driver.find_element(By.XPATH, \"//input[@id='email-input']\")\n",
    "        email_input.send_keys(MAIL)\n",
    "        sleep(3)\n",
    "\n",
    "        # Click continue\n",
    "        continue_btn = driver.find_element(By.XPATH, \"//button[@class='continue-btn']\")\n",
    "        continue_btn.click()\n",
    "        sleep(3)\n",
    "\n",
    "        # Enter password\n",
    "        password_input = driver.find_element(By.XPATH, \"//input[@id='password']\")\n",
    "        password_input.send_keys(PASSWORD)\n",
    "        sleep(3)\n",
    "\n",
    "        # Submit the login form\n",
    "        submit_btn = driver.find_element(By.XPATH, \"//button[@type='submit']\")\n",
    "        submit_btn.click()\n",
    "        sleep(10)\n",
    "        \n",
    "        logging.info(\"Login successful\")\n",
    "    except Exception as e:\n",
    "        logging.error(f\"Login failed: {e}\")"
   ]
  },
  {
   "cell_type": "code",
   "execution_count": 6,
   "id": "c01698e0-ca62-4891-8893-03185d5aa14e",
   "metadata": {},
   "outputs": [],
   "source": [
    "def send_prompt(driver, prompt):\n",
    "    try:\n",
    "        # Wait until the prompt input is clickable\n",
    "        wait = WebDriverWait(driver, 120)\n",
    "        send_btn = wait.until(EC.element_to_be_clickable((By.XPATH, \"//button[@data-testid='send-button']\")))\n",
    "        \n",
    "        # Enter the prompt and send it\n",
    "        prompt_input = driver.find_element(By.XPATH, \"//div[@id='prompt-textarea']\")\n",
    "        prompt_input.send_keys(prompt)\n",
    "        sleep(3)\n",
    "        prompt_input.send_keys(Keys.ENTER)\n",
    "        \n",
    "        logging.info(f\"Prompt sent: {prompt}\")\n",
    "    except Exception as e:\n",
    "        logging.error(f\"Failed to send prompt: {e}\")"
   ]
  },
  {
   "cell_type": "code",
   "execution_count": 7,
   "id": "98119dad-39ae-41d6-bed7-50d03cc5a052",
   "metadata": {},
   "outputs": [],
   "source": [
    "def capture_output(driver):\n",
    "    try:\n",
    "        sleep(10)\n",
    "        # Capture the output\n",
    "        article_output = driver.find_elements(By.XPATH, \"//article\")\n",
    "        if article_output:\n",
    "            output_text = article_output[1].text\n",
    "            logging.info(f\"Captured output: {output_text}\")\n",
    "            return output_text\n",
    "        else:\n",
    "            logging.warning(\"No output found\")\n",
    "            return None\n",
    "    except Exception as e:\n",
    "        logging.error(f\"Failed to capture output: {e}\")\n",
    "        return None"
   ]
  },
  {
   "cell_type": "code",
   "execution_count": 8,
   "id": "a71cbe2c-f00f-48e5-8033-b52fe952a721",
   "metadata": {},
   "outputs": [],
   "source": [
    "def main():\n",
    "    driver = initialize_driver()\n",
    "    if driver:\n",
    "        login(driver)\n",
    "        send_prompt(driver, PROMPT)\n",
    "        output = capture_output(driver)\n",
    "        if output:\n",
    "            logging.info(f\"Final Output: {output}\")\n",
    "        driver.quit()"
   ]
  },
  {
   "cell_type": "code",
   "execution_count": 9,
   "id": "7f9a6fef-cb21-49b0-b7cf-4fcccdd85ac1",
   "metadata": {},
   "outputs": [
    {
     "name": "stderr",
     "output_type": "stream",
     "text": [
      "2024-09-15 20:32:57,178 - INFO - Starting Chrome browser\n",
      "2024-09-15 20:32:58,479 - INFO - patching driver executable C:\\Users\\benam\\appdata\\roaming\\undetected_chromedriver\\undetected_chromedriver.exe\n",
      "2024-09-15 20:32:59,879 - ERROR - Error initializing driver: Message: invalid argument: cannot parse capability: goog:chromeOptions\n",
      "from invalid argument: unrecognized chrome option: detach\n",
      "Stacktrace:\n",
      "\tGetHandleVerifier [0x00D6D933+25811]\n",
      "\t(No symbol) [0x00CFE314]\n",
      "\t(No symbol) [0x00BF2523]\n",
      "\t(No symbol) [0x00C16AE9]\n",
      "\t(No symbol) [0x00C186B0]\n",
      "\t(No symbol) [0x00C1335D]\n",
      "\t(No symbol) [0x00C635F7]\n",
      "\t(No symbol) [0x00C630CC]\n",
      "\t(No symbol) [0x00C6462C]\n",
      "\t(No symbol) [0x00C6454A]\n",
      "\t(No symbol) [0x00C5AAC6]\n",
      "\t(No symbol) [0x00C2BEFD]\n",
      "\t(No symbol) [0x00C2C8FD]\n",
      "\tGetHandleVerifier [0x0103F143+2981091]\n",
      "\tGetHandleVerifier [0x01092FF9+3324825]\n",
      "\tGetHandleVerifier [0x00DFB32F+605903]\n",
      "\tGetHandleVerifier [0x00E02CBC+637020]\n",
      "\t(No symbol) [0x00D06F4D]\n",
      "\t(No symbol) [0x00D03DD8]\n",
      "\t(No symbol) [0x00D03F75]\n",
      "\t(No symbol) [0x00CF6406]\n",
      "\tBaseThreadInitThunk [0x7639FCC9+25]\n",
      "\tRtlGetAppContainerNamedObjectPath [0x77AB80CE+286]\n",
      "\tRtlGetAppContainerNamedObjectPath [0x77AB809E+238]\n",
      "\n"
     ]
    }
   ],
   "source": [
    "if __name__ == \"__main__\":\n",
    "    main()"
   ]
  },
  {
   "cell_type": "code",
   "execution_count": null,
   "id": "732c1957-a875-4972-a6ed-4aa4db1f5ef4",
   "metadata": {},
   "outputs": [],
   "source": []
  }
 ],
 "metadata": {
  "kernelspec": {
   "display_name": "Python 3 (ipykernel)",
   "language": "python",
   "name": "python3"
  },
  "language_info": {
   "codemirror_mode": {
    "name": "ipython",
    "version": 3
   },
   "file_extension": ".py",
   "mimetype": "text/x-python",
   "name": "python",
   "nbconvert_exporter": "python",
   "pygments_lexer": "ipython3",
   "version": "3.12.5"
  }
 },
 "nbformat": 4,
 "nbformat_minor": 5
}
